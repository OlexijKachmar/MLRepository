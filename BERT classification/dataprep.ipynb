{
 "cells": [
  {
   "cell_type": "code",
   "execution_count": 62,
   "metadata": {},
   "outputs": [],
   "source": [
    "import pandas as pd\n",
    "from collections import namedtuple\n",
    "\n",
    "import torch\n",
    "import transformers\n",
    "from typing import List, Dict\n",
    "from transformers import AutoTokenizer\n",
    "\n",
    "from torch.utils.data import DataLoader\n",
    "from torch.utils.data import Dataset\n"
   ]
  },
  {
   "cell_type": "code",
   "execution_count": null,
   "metadata": {},
   "outputs": [],
   "source": [
    "import pandas as pd"
   ]
  },
  {
   "attachments": {},
   "cell_type": "markdown",
   "metadata": {},
   "source": [
    "## Pytorch Datasets & DataLoaders"
   ]
  },
  {
   "cell_type": "code",
   "execution_count": null,
   "metadata": {},
   "outputs": [],
   "source": [
    "class TextClassificationDataset(Dataset):\n",
    "\n",
    "    def __init__(\n",
    "        self,\n",
    "        texts: List[str],\n",
    "        labels: List[str] = None,\n",
    "        mappings: Dict[str, int] = None,\n",
    "        max_seq_len: int = 150,\n",
    "        model_name: str = 'distilbert-base-uncased'\n",
    "    ):\n",
    "        self.texts = texts\n",
    "        self.labels = labels\n",
    "        self.max_seq_len = max_seq_len\n",
    "        self.model_name = model_name\n",
    "\n",
    "        if (not mappings) and labels:\n",
    "            unique_sorted_labels = sorted(set(labels))\n",
    "            self.mappings = dict(\n",
    "                zip(unique_sorted_labels, range(len(unique_sorted_labels))))\n",
    "\n",
    "        self.tokenizer = AutoTokenizer.from_pretrained(model_name)\n",
    "\n",
    "    def __len__(self) -> int:\n",
    "        return len(self.texts)\n",
    "\n",
    "    def __getitem__(self, index):\n",
    "\n",
    "        text = self.texts[index]\n",
    "        # dict of (input_ids, )\n",
    "        tokenized_dict = self.tokenizer.encode_plus(\n",
    "            text,\n",
    "            add_special_tokens=True,\n",
    "            padding='max_length',\n",
    "            max_length=self.max_seq_len,\n",
    "            return_tensors='pt',\n",
    "            truncation=True,\n",
    "            return_attention_mask=True)\n",
    "\n",
    "        if self.labels:\n",
    "            label = self.labels[index]\n",
    "            tokenized_dict['targets'] = (torch.Tensor([self.mappings.get(label, -1)])\n",
    "                                         .long().squeeze(0))\n",
    "        return tokenized_dict\n"
   ]
  },
  {
   "cell_type": "code",
   "execution_count": 5,
   "metadata": {},
   "outputs": [],
   "source": [
    "def read_data(train, test):\n",
    "\n",
    "    train_dataset = TextClassificationDataset(\n",
    "        train['text'].iloc[:1000].values.tolist(),\n",
    "        train['label'].iloc[:1000].values.tolist()\n",
    "    )\n",
    "\n",
    "    test_dataset = TextClassificationDataset(\n",
    "        test['text'].iloc[:1000].values.tolist()\n",
    "    )\n",
    "\n",
    "    train_loader = DataLoader(train_dataset, batch_size=4, shuffle=True)\n",
    "    test_loader = DataLoader(test_dataset, batch_size=8, shuffle=False)\n",
    "\n",
    "    DataLoaders = namedtuple('DataLoaders', ['train', 'test'])\n",
    "    dataloaders = DataLoaders(train_loader, test_loader)\n",
    "    return dataloaders\n"
   ]
  },
  {
   "cell_type": "code",
   "execution_count": 6,
   "metadata": {},
   "outputs": [],
   "source": [
    "TRAIN_PATH = './data/train.csv'\n",
    "TEST_PATH = './data/test.csv'"
   ]
  },
  {
   "cell_type": "code",
   "execution_count": 9,
   "metadata": {},
   "outputs": [],
   "source": [
    "train = pd.read_csv(TRAIN_PATH)\n",
    "test = pd.read_csv(TEST_PATH)"
   ]
  }
 ],
 "metadata": {
  "kernelspec": {
   "display_name": "venv",
   "language": "python",
   "name": "python3"
  },
  "language_info": {
   "codemirror_mode": {
    "name": "ipython",
    "version": 3
   },
   "file_extension": ".py",
   "mimetype": "text/x-python",
   "name": "python",
   "nbconvert_exporter": "python",
   "pygments_lexer": "ipython3",
   "version": "3.7.9"
  },
  "orig_nbformat": 4,
  "vscode": {
   "interpreter": {
    "hash": "209a486280714a61732d507bba0f6bb96a78b68bebe7bcad24df410af12910e0"
   }
  }
 },
 "nbformat": 4,
 "nbformat_minor": 2
}
