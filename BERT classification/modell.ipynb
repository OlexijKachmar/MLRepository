{
 "cells": [
  {
   "cell_type": "code",
   "execution_count": 8,
   "metadata": {},
   "outputs": [],
   "source": [
    "import torch\n",
    "from torch import nn\n",
    "from transformers import AutoConfig, AutoModel\n",
    "\n",
    "from typing import List"
   ]
  },
  {
   "cell_type": "code",
   "execution_count": null,
   "metadata": {},
   "outputs": [],
   "source": [
    "class BertForSequenceClassification(nn.Module):\n",
    "\n",
    "    def __init__(self,\n",
    "                 num_classes: int,\n",
    "                 pretrained_model_name: str = 'bert-base-uncased'):\n",
    "        super().__init__()\n",
    "        config = AutoConfig.from_pretrained(\n",
    "            pretrained_model_name, num_labels=num_classes)\n",
    "        self.model = AutoModel.from_pretrained(\n",
    "            pretrained_model_name, config=config)\n",
    "        self.classifier = nn.Linear(config.hidden_size, num_classes)\n",
    "        self.dropout = nn.Dropout(p=0.3)\n",
    "\n",
    "    def forward(self, input_seqs: List[str]):\n",
    "\n",
    "        bert_output = self.model(input_ids=input_seqs['input_ids'].squeeze(),\n",
    "                                 attention_mask=input_seqs['attention_mask'].squeeze(),\n",
    "                                 output_hidden_states=True,\n",
    "                                 return_dict=True)\n",
    "        last_hidden_state = bert_output.last_hidden_state # (bs, seq_size, hidden_size)\n",
    "        sentence_vector = last_hidden_state.mean(axis=1) # (bs, hidden_size)\n",
    "        subsentence_vector = self.dropout(sentence_vector)\n",
    "        scores = self.classifier(subsentence_vector)\n",
    "        return scores"
   ]
  },
  {
   "cell_type": "code",
   "execution_count": null,
   "metadata": {},
   "outputs": [],
   "source": []
  }
 ],
 "metadata": {
  "kernelspec": {
   "display_name": "venv",
   "language": "python",
   "name": "python3"
  },
  "language_info": {
   "codemirror_mode": {
    "name": "ipython",
    "version": 3
   },
   "file_extension": ".py",
   "mimetype": "text/x-python",
   "name": "python",
   "nbconvert_exporter": "python",
   "pygments_lexer": "ipython3",
   "version": "3.7.9"
  },
  "orig_nbformat": 4,
  "vscode": {
   "interpreter": {
    "hash": "209a486280714a61732d507bba0f6bb96a78b68bebe7bcad24df410af12910e0"
   }
  }
 },
 "nbformat": 4,
 "nbformat_minor": 2
}
