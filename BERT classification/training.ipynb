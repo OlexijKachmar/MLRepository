{
 "cells": [
  {
   "cell_type": "code",
   "execution_count": 1,
   "metadata": {},
   "outputs": [],
   "source": [
    "import torch\n",
    "from torch.optim import Adam\n",
    "from tqdm import tqdm\n",
    "import numpy as np"
   ]
  },
  {
   "cell_type": "code",
   "execution_count": 2,
   "metadata": {},
   "outputs": [],
   "source": [
    "%run dataprep.ipynb"
   ]
  },
  {
   "cell_type": "code",
   "execution_count": 3,
   "metadata": {},
   "outputs": [],
   "source": [
    "%run modell.ipynb"
   ]
  },
  {
   "cell_type": "code",
   "execution_count": 4,
   "metadata": {},
   "outputs": [],
   "source": [
    "DEVICE = 'cuda'"
   ]
  },
  {
   "cell_type": "code",
   "execution_count": 5,
   "metadata": {},
   "outputs": [],
   "source": [
    "dataloaders = read_data(TRAIN_PATH, TEST_PATH)"
   ]
  },
  {
   "cell_type": "code",
   "execution_count": 6,
   "metadata": {},
   "outputs": [
    {
     "name": "stderr",
     "output_type": "stream",
     "text": [
      "Some weights of the model checkpoint at bert-base-uncased were not used when initializing BertModel: ['cls.predictions.transform.LayerNorm.bias', 'cls.predictions.transform.dense.bias', 'cls.predictions.transform.dense.weight', 'cls.predictions.decoder.weight', 'cls.seq_relationship.bias', 'cls.seq_relationship.weight', 'cls.predictions.transform.LayerNorm.weight', 'cls.predictions.bias']\n",
      "- This IS expected if you are initializing BertModel from the checkpoint of a model trained on another task or with another architecture (e.g. initializing a BertForSequenceClassification model from a BertForPreTraining model).\n",
      "- This IS NOT expected if you are initializing BertModel from the checkpoint of a model that you expect to be exactly identical (initializing a BertForSequenceClassification model from a BertForSequenceClassification model).\n"
     ]
    }
   ],
   "source": [
    "bert_for_classification = BertForSequenceClassification(num_classes=6).to(DEVICE)\n",
    "for p in bert_for_classification.model.parameters():\n",
    "    p.requires_grad = False"
   ]
  },
  {
   "cell_type": "code",
   "execution_count": 7,
   "metadata": {},
   "outputs": [],
   "source": [
    "def train_model(train_dl, model, optimizer, criterion, optional_metric, device='cuda'):\n",
    "    \n",
    "    # define the optimization\n",
    "    loss_agg = 0\n",
    "    optional_metric_agg = 0\n",
    "        \n",
    "    for iteration, inputs in tqdm(enumerate(train_dl)):\n",
    "        # clear the gradients\n",
    "        inputs = {k: v.to(device) for (k, v) in inputs.items()}\n",
    "        # targets = targets.to(device)\n",
    "        optimizer.zero_grad()\n",
    "        # compute the model output\n",
    "        logits = model(inputs)\n",
    "        # calculate loss\n",
    "        loss = criterion(logits, inputs['targets'])\n",
    "        # credit assignment\n",
    "        loss.backward()\n",
    "        # update model weights\n",
    "        optimizer.step()\n",
    "        \n",
    "        #BCELoss or MSELoss\n",
    "        loss_agg += loss.data.item()\n",
    "        # optional_metric_agg += optional_metric().to(device)(torch.max(probs, 1)[1],targets).item()\n",
    "\n",
    "    loss_agg /= len(train_dl)\n",
    "    # optional_metric_agg /= len(train_dl)\n",
    "    return (loss_agg, )#optional_metric_agg)#optional_metric_agg"
   ]
  },
  {
   "cell_type": "code",
   "execution_count": 8,
   "metadata": {},
   "outputs": [],
   "source": [
    "def test_model(test_dl, model, criterion, optional_metric, device = 'cuda'):\n",
    "    \n",
    "    loss_agg = 0\n",
    "    optional_metric_agg = 0\n",
    "    \n",
    "    model.eval()\n",
    "    with torch.no_grad():\n",
    "        for i, inputs in tqdm(enumerate(test_dl)):\n",
    "            inputs = {k: v.to(device) for (k, v) in inputs.items()}\n",
    "            # targets = targets.to(device)\n",
    "            # evaluate the model on the test set\n",
    "            logits = model(inputs)\n",
    "            loss = criterion(logits, inputs['targets'])\n",
    "            \n",
    "            loss_agg += loss.data.item()\n",
    "            # optional_metric_agg += optional_metric().to(device)(torch.max(probs, 1)[1], targets).item()\n",
    "        \n",
    "        loss_agg /= (len(test_dl))\n",
    "        # optional_metric_agg /= (len(test_dl))\n",
    "    return (loss_agg, ) #optional_metric_agg) # optional_metric_agg"
   ]
  },
  {
   "cell_type": "code",
   "execution_count": 18,
   "metadata": {},
   "outputs": [],
   "source": [
    "def train_test_data(dataloaders, model, optimizer, criterion, optional_metric):\n",
    "    \n",
    "    metrics = []\n",
    "    for epoch in range(3):\n",
    "        \n",
    "        train_result = train_model(dataloaders.train, model, optimizer, criterion, optional_metric)\n",
    "        # test_result = test_model(dataloaders.test, model, criterion, optional_metric)\n",
    "        \n",
    "        metrics.append([*train_result])\n",
    "    return np.array(metrics)"
   ]
  },
  {
   "cell_type": "code",
   "execution_count": 19,
   "metadata": {},
   "outputs": [],
   "source": [
    "loss = nn.CrossEntropyLoss()\n",
    "optimizer = Adam(bert_for_classification.parameters(), lr = 0.001)"
   ]
  },
  {
   "cell_type": "code",
   "execution_count": 20,
   "metadata": {},
   "outputs": [
    {
     "name": "stderr",
     "output_type": "stream",
     "text": [
      "250it [01:01,  4.07it/s]\n",
      "250it [01:02,  3.99it/s]\n",
      "250it [01:03,  3.93it/s]\n"
     ]
    }
   ],
   "source": [
    "metrics = train_test_data(dataloaders, bert_for_classification, optimizer, loss, None)"
   ]
  }
 ],
 "metadata": {
  "kernelspec": {
   "display_name": "venv",
   "language": "python",
   "name": "python3"
  },
  "language_info": {
   "codemirror_mode": {
    "name": "ipython",
    "version": 3
   },
   "file_extension": ".py",
   "mimetype": "text/x-python",
   "name": "python",
   "nbconvert_exporter": "python",
   "pygments_lexer": "ipython3",
   "version": "3.7.9"
  },
  "orig_nbformat": 4,
  "vscode": {
   "interpreter": {
    "hash": "209a486280714a61732d507bba0f6bb96a78b68bebe7bcad24df410af12910e0"
   }
  }
 },
 "nbformat": 4,
 "nbformat_minor": 2
}
